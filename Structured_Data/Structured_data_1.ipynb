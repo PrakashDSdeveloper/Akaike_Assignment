{
 "cells": [
  {
   "cell_type": "markdown",
   "id": "dc7a5f5a",
   "metadata": {},
   "source": [
    "## **Problem Statement**"
   ]
  },
  {
   "cell_type": "markdown",
   "id": "c25711fc",
   "metadata": {},
   "source": [
    "The dataset in question contains a comprehensive collection of electronic\n",
    "health records belonging to patients who have been diagnosed with a specific disease. These health records comprise a detailed log of every aspect of the patients' medical history, including all diagnoses, symptoms, prescribed drug treatments, and medical tests that they have undergone. Each row represents a healthcare record/medical event for a patient and it includes a timestamp for each entry/event, thereby allowing for a chronological view of the patient's medical history.\n",
    "\n",
    "The Data has mainly three columns\n",
    "1) **Patient-Uid** - Unique Alphanumeric Identifier for a patient\n",
    "2) **Date** - Date when patient encountered the event.\n",
    "3) **Incident** - This columns describes which event occurred on the day."
   ]
  },
  {
   "cell_type": "markdown",
   "id": "588332a1",
   "metadata": {},
   "source": [
    "#Problem\n",
    "The development of drugs is critical in providing therapeutic options\n",
    "for patients suffering from chronic and terminal illnesses. “Target Drug”, in particular, is designed to enhance the patient's health and well-being without causing dependence on other medications that could potentially lead to severe and life-threatening side effects. These drugs are specifically tailored to treat a particular disease or condition, offering a more focused and effective approach to treatment, while minimising the risk of harmful reactions."
   ]
  },
  {
   "cell_type": "code",
   "execution_count": null,
   "id": "f29e4cd4",
   "metadata": {},
   "outputs": [],
   "source": [
    "!pip install xgboost"
   ]
  },
  {
   "cell_type": "code",
   "execution_count": null,
   "id": "fcb3b364",
   "metadata": {},
   "outputs": [],
   "source": [
    "import pandas as pd\n",
    "from sklearn.model_selection import train_test_split\n",
    "from sklearn.ensemble import AdaBoostClassifier\n",
    "from xgboost import XGBClassifier\n",
    "from sklearn.linear_model import LogisticRegression\n",
    "from sklearn.metrics import confusion_matrix\n",
    "from sklearn.metrics import classification_report\n",
    "from sklearn.metrics import f1_score, roc_auc_score as ras, roc_curve, auc, accuracy_score\n",
    "import matplotlib.pyplot as plt"
   ]
  },
  {
   "cell_type": "code",
   "execution_count": null,
   "id": "3e3b3a0e",
   "metadata": {},
   "outputs": [],
   "source": [
    "df = pd.read_parquet('train.parquet')\n",
    "df.sample(10)"
   ]
  },
  {
   "cell_type": "code",
   "execution_count": null,
   "id": "aa7b052b",
   "metadata": {},
   "outputs": [],
   "source": [
    "df.columns"
   ]
  },
  {
   "cell_type": "code",
   "execution_count": null,
   "id": "b4f049ea",
   "metadata": {
    "scrolled": true
   },
   "outputs": [],
   "source": [
    "df.describe()"
   ]
  },
  {
   "cell_type": "code",
   "execution_count": null,
   "id": "b25cb1ea",
   "metadata": {},
   "outputs": [],
   "source": [
    "df.isnull().sum() #checking null values and we don't have null values"
   ]
  },
  {
   "cell_type": "code",
   "execution_count": null,
   "id": "8c0baac7",
   "metadata": {},
   "outputs": [],
   "source": [
    "df.duplicated().sum() #checking Duplicate values"
   ]
  },
  {
   "cell_type": "code",
   "execution_count": null,
   "id": "b520e882",
   "metadata": {},
   "outputs": [],
   "source": [
    "df.shape #before droping duplicates"
   ]
  },
  {
   "cell_type": "code",
   "execution_count": null,
   "id": "8a0f1264",
   "metadata": {},
   "outputs": [],
   "source": [
    "df = df.drop_duplicates() "
   ]
  },
  {
   "cell_type": "code",
   "execution_count": null,
   "id": "25899da3",
   "metadata": {},
   "outputs": [],
   "source": [
    "df.shape #after droping duplicates"
   ]
  },
  {
   "cell_type": "code",
   "execution_count": null,
   "id": "dab3443f",
   "metadata": {},
   "outputs": [],
   "source": [
    "df.duplicated().sum()"
   ]
  },
  {
   "cell_type": "code",
   "execution_count": null,
   "id": "2ce1b561",
   "metadata": {
    "scrolled": true
   },
   "outputs": [],
   "source": [
    "df.dtypes"
   ]
  },
  {
   "cell_type": "code",
   "execution_count": null,
   "id": "c0d9d202",
   "metadata": {
    "scrolled": true
   },
   "outputs": [],
   "source": [
    "df['Incident'].unique() #finding unique values"
   ]
  },
  {
   "cell_type": "code",
   "execution_count": null,
   "id": "da6ae705",
   "metadata": {
    "scrolled": true
   },
   "outputs": [],
   "source": [
    "df['Incident'].value_counts()"
   ]
  },
  {
   "cell_type": "code",
   "execution_count": null,
   "id": "a31af611",
   "metadata": {
    "scrolled": true
   },
   "outputs": [],
   "source": [
    "df['Patient-Uid'].value_counts()"
   ]
  },
  {
   "cell_type": "code",
   "execution_count": null,
   "id": "d528e028",
   "metadata": {
    "scrolled": false
   },
   "outputs": [],
   "source": [
    "df['Date'].value_counts()"
   ]
  },
  {
   "cell_type": "code",
   "execution_count": null,
   "id": "204058bd",
   "metadata": {},
   "outputs": [],
   "source": [
    "#retriving Positive Datas\n",
    "df_positive_data = df[df['Incident'] == 'TARGET DRUG']\n",
    "df_positive_data"
   ]
  },
  {
   "cell_type": "code",
   "execution_count": null,
   "id": "df121542",
   "metadata": {},
   "outputs": [],
   "source": [
    "#retriving negative Datas\n",
    "negative_data = df[~df['Patient-Uid'].isin(df_positive_data['Patient-Uid'])]\n",
    "df_negative_data = negative_data.groupby('Patient-Uid').tail(1)\n"
   ]
  },
  {
   "cell_type": "code",
   "execution_count": null,
   "id": "dfccd09b",
   "metadata": {
    "scrolled": true
   },
   "outputs": [],
   "source": [
    "# to get the count of previous prescriptions within specific time intervals\n",
    "df_positive_data['Count Of Prescription'] = df_positive_data.groupby('Patient-Uid')['Date'].cumcount()\n",
    "df_negative_data['Count Of Prescription'] = df_negative_data.groupby('Patient-Uid')['Date'].cumcount()\n"
   ]
  },
  {
   "cell_type": "code",
   "execution_count": null,
   "id": "7291b235",
   "metadata": {
    "scrolled": true
   },
   "outputs": [],
   "source": [
    "# to get the difference between the most recent prescription and the prediction date.\n",
    "prediction_date = pd.to_datetime('today')+pd.DateOffset(days=30)\n",
    "df_positive_data['Time_Difference'] = (prediction_date - df_positive_data.groupby('Patient-Uid')['Date'].transform('max')).dt.days\n",
    "df_negative_data['Time_Difference'] = (prediction_date - df_negative_data.groupby('Patient-Uid')['Date'].transform('max')).dt.days\n"
   ]
  },
  {
   "cell_type": "code",
   "execution_count": null,
   "id": "9ec2d3b9",
   "metadata": {},
   "outputs": [],
   "source": [
    "df_1 = pd.concat([df_positive_data,df_negative_data])\n",
    "df_1.head"
   ]
  },
  {
   "cell_type": "code",
   "execution_count": null,
   "id": "0a672a88",
   "metadata": {},
   "outputs": [],
   "source": [
    "#train test splitting\n",
    "X_train,X_test,y_train,y_test = train_test_split(df_1[['Count Of Prescription','Time_Difference']],df_1['Incident'] == 'TARGET DRUG',test_size= 0.2,random_state=42)"
   ]
  },
  {
   "cell_type": "code",
   "execution_count": null,
   "id": "77ca371a",
   "metadata": {},
   "outputs": [],
   "source": [
    "#with three models\n",
    "models = [LogisticRegression(),XGBClassifier(random_state = 42),AdaBoostClassifier()]"
   ]
  },
  {
   "cell_type": "code",
   "execution_count": 132,
   "id": "6080ae56",
   "metadata": {
    "scrolled": true
   },
   "outputs": [
    {
     "name": "stdout",
     "output_type": "stream",
     "text": [
      "LogisticRegression\n",
      "              precision    recall  f1-score   support\n",
      "\n",
      "       False       0.86      0.83      0.84      3520\n",
      "        True       0.96      0.96      0.96     13456\n",
      "\n",
      "    accuracy                           0.94     16976\n",
      "   macro avg       0.91      0.90      0.90     16976\n",
      "weighted avg       0.94      0.94      0.94     16976\n",
      "\n",
      "F1_Score 0.9364985862393967\n"
     ]
    },
    {
     "data": {
      "image/png": "[encoded data removed]",
      "text/plain": [
       "<Figure size 640x480 with 1 Axes>"
      ]
     },
     "metadata": {},
     "output_type": "display_data"
    },
    {
     "name": "stdout",
     "output_type": "stream",
     "text": [
      "XGBClassifier\n",
      "              precision    recall  f1-score   support\n",
      "\n",
      "       False       0.82      0.91      0.86      3520\n",
      "        True       0.98      0.95      0.96     13456\n",
      "\n",
      "    accuracy                           0.94     16976\n",
      "   macro avg       0.90      0.93      0.91     16976\n",
      "weighted avg       0.94      0.94      0.94     16976\n",
      "\n",
      "F1_Score 0.939385014137606\n"
     ]
    },
    {
     "data": {
      "image/png": "[encoded data removed]",
      "text/plain": [
       "<Figure size 640x480 with 1 Axes>"
      ]
     },
     "metadata": {},
     "output_type": "display_data"
    },
    {
     "name": "stdout",
     "output_type": "stream",
     "text": [
      "AdaBoostClassifier\n",
      "              precision    recall  f1-score   support\n",
      "\n",
      "       False       0.81      0.93      0.86      3520\n",
      "        True       0.98      0.94      0.96     13456\n",
      "\n",
      "    accuracy                           0.94     16976\n",
      "   macro avg       0.90      0.94      0.91     16976\n",
      "weighted avg       0.94      0.94      0.94     16976\n",
      "\n",
      "F1_Score 0.9397384542884072\n"
     ]
    },
    {
     "data": {
      "image/png": "[encoded data removed]",
      "text/plain": [
       "<Figure size 640x480 with 1 Axes>"
      ]
     },
     "metadata": {},
     "output_type": "display_data"
    }
   ],
   "source": [
    "#Fitting and predicting the model\n",
    "for model in models:\n",
    "    model.fit(X_train,y_train)\n",
    "    y_pred = model.predict(X_test)\n",
    "    print(model.__class__.__name__)\n",
    "    print(classification_report(y_test,y_pred))\n",
    "    F1_score = f1_score(y_test, y_pred,average='micro')\n",
    "    print('F1_Score',F1_score)\n",
    "    accuracy_score(y_test, y_pred)\n",
    "    fpr,tpr, thresold = roc_curve(y_test, y_pred)\n",
    "    roc_auc = auc(fpr,tpr)\n",
    "    plt.plot(fpr,tpr, label = 'AUC = %0.3f' % roc_auc)\n",
    "    plt.plot([0,1],[0,1],'--')\n",
    "    plt.title('ROC_AUC curve')\n",
    "    plt.legend(loc='lower right')\n",
    "    plt.xlabel('False positive rate')\n",
    "    plt.ylabel('True positive rate')\n",
    "    plt.show()"
   ]
  },
  {
   "cell_type": "code",
   "execution_count": null,
   "id": "b9f9f6d8",
   "metadata": {
    "scrolled": true
   },
   "outputs": [],
   "source": [
    "#Loading test data\n",
    "df_test = pd.read_parquet('test.parquet')\n",
    "df_test.sample(10)"
   ]
  },
  {
   "cell_type": "code",
   "execution_count": null,
   "id": "2b853a1b",
   "metadata": {},
   "outputs": [],
   "source": [
    "df_test.columns"
   ]
  },
  {
   "cell_type": "code",
   "execution_count": null,
   "id": "2fdfa56a",
   "metadata": {
    "scrolled": true
   },
   "outputs": [],
   "source": [
    "df_test.describe()"
   ]
  },
  {
   "cell_type": "code",
   "execution_count": null,
   "id": "a32fb915",
   "metadata": {
    "scrolled": true
   },
   "outputs": [],
   "source": [
    "df_test.isnull().sum() #checking null values and we don't have null values"
   ]
  },
  {
   "cell_type": "code",
   "execution_count": null,
   "id": "77003f33",
   "metadata": {
    "scrolled": true
   },
   "outputs": [],
   "source": [
    "df_test.duplicated().sum() #checking Duplicate values"
   ]
  },
  {
   "cell_type": "code",
   "execution_count": null,
   "id": "d2b0d89f",
   "metadata": {},
   "outputs": [],
   "source": [
    "df_test = df_test.drop_duplicates() "
   ]
  },
  {
   "cell_type": "code",
   "execution_count": null,
   "id": "a0a19ef1",
   "metadata": {},
   "outputs": [],
   "source": [
    "df_test.duplicated().sum()"
   ]
  },
  {
   "cell_type": "code",
   "execution_count": null,
   "id": "78afee41",
   "metadata": {
    "scrolled": true
   },
   "outputs": [],
   "source": [
    "df_test.dtypes"
   ]
  },
  {
   "cell_type": "code",
   "execution_count": 97,
   "id": "353a0aba",
   "metadata": {
    "collapsed": true
   },
   "outputs": [
    {
     "data": {
      "text/plain": [
       "array(['SYMPTOM_TYPE_0', 'DRUG_TYPE_0', 'DRUG_TYPE_2', 'DRUG_TYPE_1',\n",
       "       'PRIMARY_DIAGNOSIS', 'DRUG_TYPE_8', 'TEST_TYPE_0', 'DRUG_TYPE_7',\n",
       "       'DRUG_TYPE_11', 'SYMPTOM_TYPE_6', 'DRUG_TYPE_5', 'DRUG_TYPE_6',\n",
       "       'DRUG_TYPE_9', 'DRUG_TYPE_15', 'TEST_TYPE_3', 'SYMPTOM_TYPE_3',\n",
       "       'TEST_TYPE_1', 'DRUG_TYPE_3', 'TEST_TYPE_2', 'SYMPTOM_TYPE_7',\n",
       "       'DRUG_TYPE_12', 'SYMPTOM_TYPE_2', 'SYMPTOM_TYPE_10',\n",
       "       'SYMPTOM_TYPE_1', 'SYMPTOM_TYPE_17', 'SYMPTOM_TYPE_18',\n",
       "       'SYMPTOM_TYPE_5', 'SYMPTOM_TYPE_15', 'SYMPTOM_TYPE_9',\n",
       "       'SYMPTOM_TYPE_4', 'SYMPTOM_TYPE_8', 'SYMPTOM_TYPE_29',\n",
       "       'DRUG_TYPE_13', 'SYMPTOM_TYPE_21', 'DRUG_TYPE_4',\n",
       "       'SYMPTOM_TYPE_12', 'SYMPTOM_TYPE_11', 'SYMPTOM_TYPE_19',\n",
       "       'DRUG_TYPE_14', 'SYMPTOM_TYPE_16', 'TEST_TYPE_4', 'DRUG_TYPE_10',\n",
       "       'SYMPTOM_TYPE_26', 'SYMPTOM_TYPE_14', 'SYMPTOM_TYPE_24',\n",
       "       'DRUG_TYPE_16', 'SYMPTOM_TYPE_13', 'TEST_TYPE_5',\n",
       "       'SYMPTOM_TYPE_20', 'SYMPTOM_TYPE_25', 'SYMPTOM_TYPE_22',\n",
       "       'DRUG_TYPE_17', 'SYMPTOM_TYPE_27', 'SYMPTOM_TYPE_23',\n",
       "       'SYMPTOM_TYPE_28'], dtype=object)"
      ]
     },
     "execution_count": 97,
     "metadata": {},
     "output_type": "execute_result"
    }
   ],
   "source": [
    "df_test['Incident'].unique()"
   ]
  },
  {
   "cell_type": "code",
   "execution_count": 98,
   "id": "15766e66",
   "metadata": {
    "scrolled": true
   },
   "outputs": [
    {
     "data": {
      "text/plain": [
       "Incident\n",
       "DRUG_TYPE_6          188401\n",
       "DRUG_TYPE_1          169089\n",
       "PRIMARY_DIAGNOSIS    127996\n",
       "DRUG_TYPE_0           90711\n",
       "DRUG_TYPE_2           90465\n",
       "DRUG_TYPE_7           90423\n",
       "DRUG_TYPE_8           55696\n",
       "DRUG_TYPE_3           40679\n",
       "TEST_TYPE_1           34274\n",
       "DRUG_TYPE_9           25294\n",
       "DRUG_TYPE_5           20045\n",
       "SYMPTOM_TYPE_0        17292\n",
       "DRUG_TYPE_11          16587\n",
       "SYMPTOM_TYPE_6        11536\n",
       "TEST_TYPE_0           10921\n",
       "SYMPTOM_TYPE_7         7943\n",
       "SYMPTOM_TYPE_5         5403\n",
       "DRUG_TYPE_14           4963\n",
       "DRUG_TYPE_10           4242\n",
       "DRUG_TYPE_13           4059\n",
       "SYMPTOM_TYPE_1         2955\n",
       "DRUG_TYPE_12           2823\n",
       "SYMPTOM_TYPE_2         2772\n",
       "TEST_TYPE_3            2709\n",
       "SYMPTOM_TYPE_8         2683\n",
       "TEST_TYPE_2            2524\n",
       "SYMPTOM_TYPE_14        2482\n",
       "DRUG_TYPE_4            1840\n",
       "SYMPTOM_TYPE_15        1818\n",
       "SYMPTOM_TYPE_10        1783\n",
       "SYMPTOM_TYPE_29        1697\n",
       "SYMPTOM_TYPE_9         1689\n",
       "SYMPTOM_TYPE_16        1576\n",
       "DRUG_TYPE_15           1373\n",
       "SYMPTOM_TYPE_4         1315\n",
       "SYMPTOM_TYPE_3          968\n",
       "SYMPTOM_TYPE_12         935\n",
       "SYMPTOM_TYPE_11         776\n",
       "SYMPTOM_TYPE_17         714\n",
       "SYMPTOM_TYPE_13         531\n",
       "DRUG_TYPE_16            424\n",
       "TEST_TYPE_4             377\n",
       "SYMPTOM_TYPE_18         164\n",
       "SYMPTOM_TYPE_22         114\n",
       "SYMPTOM_TYPE_21         110\n",
       "SYMPTOM_TYPE_19          70\n",
       "SYMPTOM_TYPE_24          46\n",
       "TEST_TYPE_5              40\n",
       "SYMPTOM_TYPE_20          27\n",
       "SYMPTOM_TYPE_23          21\n",
       "SYMPTOM_TYPE_26          19\n",
       "SYMPTOM_TYPE_28          10\n",
       "DRUG_TYPE_17              8\n",
       "SYMPTOM_TYPE_27           8\n",
       "SYMPTOM_TYPE_25           4\n",
       "Name: count, dtype: int64"
      ]
     },
     "execution_count": 98,
     "metadata": {},
     "output_type": "execute_result"
    }
   ],
   "source": [
    "df_test['Incident'].value_counts()"
   ]
  },
  {
   "cell_type": "code",
   "execution_count": 99,
   "id": "c202a825",
   "metadata": {},
   "outputs": [
    {
     "data": {
      "text/plain": [
       "Patient-Uid\n",
       "a0faa6ed-1c7c-11ec-8f6f-16262ee38c7f    1211\n",
       "a0f9fcfc-1c7c-11ec-9753-16262ee38c7f     987\n",
       "a10011d0-1c7c-11ec-8a16-16262ee38c7f     803\n",
       "a0ffae67-1c7c-11ec-bceb-16262ee38c7f     719\n",
       "a1006069-1c7c-11ec-83a8-16262ee38c7f     707\n",
       "                                        ... \n",
       "a100ed7f-1c7c-11ec-9f0c-16262ee38c7f      21\n",
       "a0ffad4a-1c7c-11ec-ae97-16262ee38c7f      21\n",
       "a100afdf-1c7c-11ec-ae98-16262ee38c7f      20\n",
       "a1019bab-1c7c-11ec-9048-16262ee38c7f      20\n",
       "a101e25b-1c7c-11ec-b0a5-16262ee38c7f      20\n",
       "Name: count, Length: 11482, dtype: int64"
      ]
     },
     "execution_count": 99,
     "metadata": {},
     "output_type": "execute_result"
    }
   ],
   "source": [
    "df_test['Patient-Uid'].value_counts()"
   ]
  },
  {
   "cell_type": "code",
   "execution_count": 100,
   "id": "3b9fe9ed",
   "metadata": {},
   "outputs": [
    {
     "data": {
      "text/plain": [
       "Date\n",
       "2018-03-13    1128\n",
       "2018-01-30    1120\n",
       "2019-05-21    1099\n",
       "2018-01-31    1094\n",
       "2018-03-08    1086\n",
       "              ... \n",
       "2020-07-13      11\n",
       "2020-08-04      11\n",
       "2020-07-27       9\n",
       "2020-07-12       7\n",
       "2020-08-03       6\n",
       "Name: count, Length: 1947, dtype: int64"
      ]
     },
     "execution_count": 100,
     "metadata": {},
     "output_type": "execute_result"
    }
   ],
   "source": [
    "df_test['Date'].value_counts()"
   ]
  },
  {
   "cell_type": "code",
   "execution_count": 104,
   "id": "cbf52957",
   "metadata": {},
   "outputs": [
    {
     "data": {
      "text/html": [
       "<div>\n",
       "<style scoped>\n",
       "    .dataframe tbody tr th:only-of-type {\n",
       "        vertical-align: middle;\n",
       "    }\n",
       "\n",
       "    .dataframe tbody tr th {\n",
       "        vertical-align: top;\n",
       "    }\n",
       "\n",
       "    .dataframe thead th {\n",
       "        text-align: right;\n",
       "    }\n",
       "</style>\n",
       "<table border=\"1\" class=\"dataframe\">\n",
       "  <thead>\n",
       "    <tr style=\"text-align: right;\">\n",
       "      <th></th>\n",
       "      <th>Patient-Uid</th>\n",
       "      <th>Date</th>\n",
       "      <th>Incident</th>\n",
       "    </tr>\n",
       "  </thead>\n",
       "  <tbody>\n",
       "  </tbody>\n",
       "</table>\n",
       "</div>"
      ],
      "text/plain": [
       "Empty DataFrame\n",
       "Columns: [Patient-Uid, Date, Incident]\n",
       "Index: []"
      ]
     },
     "execution_count": 104,
     "metadata": {},
     "output_type": "execute_result"
    }
   ],
   "source": [
    "#retriving Positive Datas\n",
    "df_test_positive_data = df_test[df_test['Incident'] == 'TARGET DRUG']\n",
    "df_test_positive_data"
   ]
  },
  {
   "cell_type": "code",
   "execution_count": 133,
   "id": "279f814d",
   "metadata": {},
   "outputs": [
    {
     "data": {
      "text/plain": [
       "(11482, 5)"
      ]
     },
     "execution_count": 133,
     "metadata": {},
     "output_type": "execute_result"
    }
   ],
   "source": [
    "#retriving NEgative Datas\n",
    "negative_data = df_test[~df_test['Patient-Uid'].isin(df_positive_data['Patient-Uid'])]\n",
    "df_test_negative_data = negative_data.groupby('Patient-Uid').tail(1)\n",
    "df_test_negative_data.shape"
   ]
  },
  {
   "cell_type": "code",
   "execution_count": 107,
   "id": "54adabc3",
   "metadata": {
    "scrolled": true
   },
   "outputs": [
    {
     "name": "stderr",
     "output_type": "stream",
     "text": [
      "C:\\Users\\praka\\AppData\\Local\\Temp\\ipykernel_10532\\3094455778.py:2: SettingWithCopyWarning: \n",
      "A value is trying to be set on a copy of a slice from a DataFrame.\n",
      "Try using .loc[row_indexer,col_indexer] = value instead\n",
      "\n",
      "See the caveats in the documentation: https://pandas.pydata.org/pandas-docs/stable/user_guide/indexing.html#returning-a-view-versus-a-copy\n",
      "  df_test_negative_data['Count Of Prescription'] = df_test_negative_data.groupby('Patient-Uid')['Date'].cumcount()\n"
     ]
    }
   ],
   "source": [
    "df_test_positive_data['Count Of Prescription'] = df_test_positive_data.groupby('Patient-Uid')['Date'].cumcount()\n",
    "df_test_negative_data['Count Of Prescription'] = df_test_negative_data.groupby('Patient-Uid')['Date'].cumcount()"
   ]
  },
  {
   "cell_type": "code",
   "execution_count": 109,
   "id": "46cf699e",
   "metadata": {
    "scrolled": true
   },
   "outputs": [
    {
     "name": "stderr",
     "output_type": "stream",
     "text": [
      "C:\\Users\\praka\\AppData\\Local\\Temp\\ipykernel_10532\\4043799050.py:2: SettingWithCopyWarning: \n",
      "A value is trying to be set on a copy of a slice from a DataFrame.\n",
      "Try using .loc[row_indexer,col_indexer] = value instead\n",
      "\n",
      "See the caveats in the documentation: https://pandas.pydata.org/pandas-docs/stable/user_guide/indexing.html#returning-a-view-versus-a-copy\n",
      "  df_test_positive_data['Time_Difference'] = (prediction_date - df_positive_data.groupby('Patient-Uid')['Date'].transform('max')).dt.days\n",
      "C:\\Users\\praka\\AppData\\Local\\Temp\\ipykernel_10532\\4043799050.py:3: SettingWithCopyWarning: \n",
      "A value is trying to be set on a copy of a slice from a DataFrame.\n",
      "Try using .loc[row_indexer,col_indexer] = value instead\n",
      "\n",
      "See the caveats in the documentation: https://pandas.pydata.org/pandas-docs/stable/user_guide/indexing.html#returning-a-view-versus-a-copy\n",
      "  df_test_negative_data['Time_Difference'] = (prediction_date - df_negative_data.groupby('Patient-Uid')['Date'].transform('max')).dt.days\n"
     ]
    }
   ],
   "source": [
    "prediction_date = pd.to_datetime('today')+pd.DateOffset(days=30)\n",
    "df_test_positive_data['Time_Difference'] = (prediction_date - df_positive_data.groupby('Patient-Uid')['Date'].transform('max')).dt.days\n",
    "df_test_negative_data['Time_Difference'] = (prediction_date - df_negative_data.groupby('Patient-Uid')['Date'].transform('max')).dt.days\n"
   ]
  },
  {
   "cell_type": "code",
   "execution_count": 111,
   "id": "14b06165",
   "metadata": {
    "scrolled": true
   },
   "outputs": [
    {
     "data": {
      "text/html": [
       "<div>\n",
       "<style scoped>\n",
       "    .dataframe tbody tr th:only-of-type {\n",
       "        vertical-align: middle;\n",
       "    }\n",
       "\n",
       "    .dataframe tbody tr th {\n",
       "        vertical-align: top;\n",
       "    }\n",
       "\n",
       "    .dataframe thead th {\n",
       "        text-align: right;\n",
       "    }\n",
       "</style>\n",
       "<table border=\"1\" class=\"dataframe\">\n",
       "  <thead>\n",
       "    <tr style=\"text-align: right;\">\n",
       "      <th></th>\n",
       "      <th>Patient-Uid</th>\n",
       "      <th>Date</th>\n",
       "      <th>Incident</th>\n",
       "      <th>Count Of Prescription</th>\n",
       "      <th>Time_Difference</th>\n",
       "    </tr>\n",
       "  </thead>\n",
       "  <tbody>\n",
       "    <tr>\n",
       "      <th>21003281</th>\n",
       "      <td>NaN</td>\n",
       "      <td>NaT</td>\n",
       "      <td>NaN</td>\n",
       "      <td>NaN</td>\n",
       "      <td>1176.0</td>\n",
       "    </tr>\n",
       "    <tr>\n",
       "      <th>10540939</th>\n",
       "      <td>NaN</td>\n",
       "      <td>NaT</td>\n",
       "      <td>NaN</td>\n",
       "      <td>NaN</td>\n",
       "      <td>1192.0</td>\n",
       "    </tr>\n",
       "    <tr>\n",
       "      <th>855697</th>\n",
       "      <td>a0fff660-1c7c-11ec-8c8d-16262ee38c7f</td>\n",
       "      <td>2018-10-10</td>\n",
       "      <td>DRUG_TYPE_6</td>\n",
       "      <td>0.0</td>\n",
       "      <td>NaN</td>\n",
       "    </tr>\n",
       "    <tr>\n",
       "      <th>521050</th>\n",
       "      <td>a0fd7c8b-1c7c-11ec-b79d-16262ee38c7f</td>\n",
       "      <td>2015-05-21</td>\n",
       "      <td>DRUG_TYPE_7</td>\n",
       "      <td>0.0</td>\n",
       "      <td>NaN</td>\n",
       "    </tr>\n",
       "    <tr>\n",
       "      <th>8205530</th>\n",
       "      <td>NaN</td>\n",
       "      <td>NaT</td>\n",
       "      <td>NaN</td>\n",
       "      <td>NaN</td>\n",
       "      <td>1415.0</td>\n",
       "    </tr>\n",
       "  </tbody>\n",
       "</table>\n",
       "</div>"
      ],
      "text/plain": [
       "                                   Patient-Uid       Date     Incident  \\\n",
       "21003281                                   NaN        NaT          NaN   \n",
       "10540939                                   NaN        NaT          NaN   \n",
       "855697    a0fff660-1c7c-11ec-8c8d-16262ee38c7f 2018-10-10  DRUG_TYPE_6   \n",
       "521050    a0fd7c8b-1c7c-11ec-b79d-16262ee38c7f 2015-05-21  DRUG_TYPE_7   \n",
       "8205530                                    NaN        NaT          NaN   \n",
       "\n",
       "          Count Of Prescription  Time_Difference  \n",
       "21003281                    NaN           1176.0  \n",
       "10540939                    NaN           1192.0  \n",
       "855697                      0.0              NaN  \n",
       "521050                      0.0              NaN  \n",
       "8205530                     NaN           1415.0  "
      ]
     },
     "execution_count": 111,
     "metadata": {},
     "output_type": "execute_result"
    }
   ],
   "source": [
    "df_test_2 = pd.concat([df_test_positive_data, df_test_negative_data])\n",
    "df_test_2.sample(5)"
   ]
  },
  {
   "cell_type": "code",
   "execution_count": 120,
   "id": "02971b04",
   "metadata": {},
   "outputs": [],
   "source": [
    "# df_test['Count Of Prescription'] = df_test.groupby('Patient-Uid')['Date'].cumcount()\n",
    "# df_test['Time_Difference'] = (prediction_date - df_test.groupby('Patient-Uid')['Date'].transform(max)).dt.days"
   ]
  },
  {
   "cell_type": "code",
   "execution_count": 121,
   "id": "dc8d07a7",
   "metadata": {},
   "outputs": [],
   "source": [
    "# classifier = XGBClassifier(random_state = 42)"
   ]
  },
  {
   "cell_type": "code",
   "execution_count": 124,
   "id": "e0d78d8b",
   "metadata": {
    "scrolled": true
   },
   "outputs": [],
   "source": [
    "#Predicting the test data with above models\n",
    "for model in models:\n",
    "    test_pred = model.predict(df_test[['Count Of Prescription', 'Time_Difference']])"
   ]
  },
  {
   "cell_type": "code",
   "execution_count": 129,
   "id": "cd60db47",
   "metadata": {
    "scrolled": true
   },
   "outputs": [
    {
     "data": {
      "text/plain": [
       "array([0, 1, 1, ..., 1, 1, 1])"
      ]
     },
     "execution_count": 129,
     "metadata": {},
     "output_type": "execute_result"
    }
   ],
   "source": [
    "test_pred.astype(int)"
   ]
  },
  {
   "cell_type": "code",
   "execution_count": 135,
   "id": "36693e63",
   "metadata": {},
   "outputs": [
    {
     "data": {
      "text/html": [
       "<div>\n",
       "<style scoped>\n",
       "    .dataframe tbody tr th:only-of-type {\n",
       "        vertical-align: middle;\n",
       "    }\n",
       "\n",
       "    .dataframe tbody tr th {\n",
       "        vertical-align: top;\n",
       "    }\n",
       "\n",
       "    .dataframe thead th {\n",
       "        text-align: right;\n",
       "    }\n",
       "</style>\n",
       "<table border=\"1\" class=\"dataframe\">\n",
       "  <thead>\n",
       "    <tr style=\"text-align: right;\">\n",
       "      <th></th>\n",
       "      <th>Patient-Uid</th>\n",
       "      <th>Prediction</th>\n",
       "    </tr>\n",
       "  </thead>\n",
       "  <tbody>\n",
       "    <tr>\n",
       "      <th>0</th>\n",
       "      <td>a0f9e8a9-1c7c-11ec-8d25-16262ee38c7f</td>\n",
       "      <td>0</td>\n",
       "    </tr>\n",
       "    <tr>\n",
       "      <th>1</th>\n",
       "      <td>a0f9e8a9-1c7c-11ec-8d25-16262ee38c7f</td>\n",
       "      <td>1</td>\n",
       "    </tr>\n",
       "    <tr>\n",
       "      <th>2</th>\n",
       "      <td>a0f9e8a9-1c7c-11ec-8d25-16262ee38c7f</td>\n",
       "      <td>1</td>\n",
       "    </tr>\n",
       "    <tr>\n",
       "      <th>3</th>\n",
       "      <td>a0f9e8a9-1c7c-11ec-8d25-16262ee38c7f</td>\n",
       "      <td>1</td>\n",
       "    </tr>\n",
       "    <tr>\n",
       "      <th>4</th>\n",
       "      <td>a0f9e8a9-1c7c-11ec-8d25-16262ee38c7f</td>\n",
       "      <td>1</td>\n",
       "    </tr>\n",
       "  </tbody>\n",
       "</table>\n",
       "</div>"
      ],
      "text/plain": [
       "                            Patient-Uid  Prediction\n",
       "0  a0f9e8a9-1c7c-11ec-8d25-16262ee38c7f           0\n",
       "1  a0f9e8a9-1c7c-11ec-8d25-16262ee38c7f           1\n",
       "2  a0f9e8a9-1c7c-11ec-8d25-16262ee38c7f           1\n",
       "3  a0f9e8a9-1c7c-11ec-8d25-16262ee38c7f           1\n",
       "4  a0f9e8a9-1c7c-11ec-8d25-16262ee38c7f           1"
      ]
     },
     "execution_count": 135,
     "metadata": {},
     "output_type": "execute_result"
    }
   ],
   "source": [
    "# to create final submission file\n",
    "Submission = pd.DataFrame({'Patient-Uid': df_test['Patient-Uid'], 'Prediction': test_pred.astype(int)})\n",
    "Submission.head()"
   ]
  },
  {
   "cell_type": "code",
   "execution_count": 134,
   "id": "9cf6d95d",
   "metadata": {},
   "outputs": [],
   "source": [
    "Submission.to_csv('Report_submission.csv', index = False)"
   ]
  }
 ],
 "metadata": {
  "kernelspec": {
   "display_name": "Python 3 (ipykernel)",
   "language": "python",
   "name": "python3"
  },
  "language_info": {
   "codemirror_mode": {
    "name": "ipython",
    "version": 3
   },
   "file_extension": ".py",
   "mimetype": "text/x-python",
   "name": "python",
   "nbconvert_exporter": "python",
   "pygments_lexer": "ipython3",
   "version": "3.11.4"
  }
 },
 "nbformat": 4,
 "nbformat_minor": 5
}
